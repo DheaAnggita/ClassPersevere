{
  "cells": [
    {
      "cell_type": "markdown",
      "id": "769d6be9",
      "metadata": {
        "id": "769d6be9"
      },
      "source": [
        "# Contoh Heading1\n",
        "## Heading 2\n",
        "### Heading 3"
      ]
    },
    {
      "cell_type": "code",
      "execution_count": null,
      "id": "052f6847",
      "metadata": {
        "id": "052f6847"
      },
      "outputs": [],
      "source": [
        "# Ini adalah penjelasan"
      ]
    },
    {
      "cell_type": "code",
      "execution_count": null,
      "id": "fe873cf4",
      "metadata": {
        "id": "fe873cf4",
        "outputId": "663985f1-e9d9-4db7-8ddd-06bbd58a92b2"
      },
      "outputs": [
        {
          "name": "stdout",
          "output_type": "stream",
          "text": [
            "Hello World\n"
          ]
        }
      ],
      "source": [
        "print('Hello World')"
      ]
    },
    {
      "cell_type": "code",
      "execution_count": null,
      "id": "d705f7e6",
      "metadata": {
        "id": "d705f7e6"
      },
      "outputs": [],
      "source": [
        "# operasi mencari luas persegi panjang\n",
        "panjang = 10\n",
        "lebar = 5\n",
        "luas = panjang * lebar"
      ]
    },
    {
      "cell_type": "code",
      "execution_count": null,
      "id": "c06e246e",
      "metadata": {
        "id": "c06e246e",
        "outputId": "47e70844-66cc-48fc-98b9-b63eb2e4047f"
      },
      "outputs": [
        {
          "name": "stdout",
          "output_type": "stream",
          "text": [
            "50\n"
          ]
        }
      ],
      "source": [
        "print (luas)"
      ]
    },
    {
      "cell_type": "code",
      "execution_count": null,
      "id": "60d11313",
      "metadata": {
        "id": "60d11313",
        "outputId": "9882925d-b457-41eb-e0aa-b7444db17639"
      },
      "outputs": [
        {
          "name": "stdout",
          "output_type": "stream",
          "text": [
            "50\n"
          ]
        }
      ],
      "source": [
        "a = 10 # panjang persegi panjang\n",
        "b = 5 # lebar persegi panjang\n",
        "c = a * b # luas persegi panjang\n",
        "print(c)"
      ]
    },
    {
      "cell_type": "markdown",
      "id": "e8f09296",
      "metadata": {
        "id": "e8f09296"
      },
      "source": [
        "Clean code \n",
        "\n",
        "Self documented."
      ]
    },
    {
      "cell_type": "code",
      "execution_count": null,
      "id": "cc752923",
      "metadata": {
        "id": "cc752923",
        "outputId": "5e76b377-aa24-4e93-9109-90afc40d0933"
      },
      "outputs": [
        {
          "data": {
            "text/plain": [
              "str"
            ]
          },
          "execution_count": 12,
          "metadata": {},
          "output_type": "execute_result"
        }
      ],
      "source": [
        "dataFloat = \"10\"\n",
        "type(dataFloat)"
      ]
    },
    {
      "cell_type": "code",
      "execution_count": null,
      "id": "8055fb8a",
      "metadata": {
        "id": "8055fb8a"
      },
      "outputs": [],
      "source": [
        "listcontoh = [12, 34, 'element3', 56.3]"
      ]
    },
    {
      "cell_type": "code",
      "execution_count": null,
      "id": "64affaed",
      "metadata": {
        "id": "64affaed",
        "outputId": "7e7be5f8-2b19-4803-cd0b-727536dc0552"
      },
      "outputs": [
        {
          "name": "stdout",
          "output_type": "stream",
          "text": [
            "[12, 34, 'element3', 56.3]\n"
          ]
        }
      ],
      "source": [
        "print(listcontoh)"
      ]
    },
    {
      "cell_type": "code",
      "execution_count": null,
      "id": "88416569",
      "metadata": {
        "id": "88416569",
        "outputId": "2657586b-1c3c-4f01-cee5-3a02df8fc342"
      },
      "outputs": [
        {
          "data": {
            "text/plain": [
              "34"
            ]
          },
          "execution_count": 15,
          "metadata": {},
          "output_type": "execute_result"
        }
      ],
      "source": [
        "listcontoh[1]"
      ]
    },
    {
      "cell_type": "code",
      "execution_count": null,
      "id": "d9b1ed5c",
      "metadata": {
        "id": "d9b1ed5c",
        "outputId": "0886aef6-6ce3-402c-fced-c4922d312868"
      },
      "outputs": [
        {
          "name": "stdout",
          "output_type": "stream",
          "text": [
            "[34, 56.3]\n"
          ]
        }
      ],
      "source": [
        "print(listcontoh[1:4:2])"
      ]
    },
    {
      "cell_type": "code",
      "execution_count": null,
      "id": "76021022",
      "metadata": {
        "id": "76021022"
      },
      "outputs": [],
      "source": [
        "listcontoh.append(23)"
      ]
    },
    {
      "cell_type": "code",
      "execution_count": null,
      "id": "97984e2c",
      "metadata": {
        "id": "97984e2c",
        "outputId": "9e73b40b-89ef-4a5f-d96d-4612b45ab6e0"
      },
      "outputs": [
        {
          "name": "stdout",
          "output_type": "stream",
          "text": [
            "[12, 34, 'element3', 56.3, 23]\n"
          ]
        }
      ],
      "source": [
        "print(listcontoh)"
      ]
    },
    {
      "cell_type": "code",
      "execution_count": null,
      "id": "706ab914",
      "metadata": {
        "id": "706ab914"
      },
      "outputs": [],
      "source": [
        "listcontoh.insert(4, 'element4')"
      ]
    },
    {
      "cell_type": "code",
      "execution_count": null,
      "id": "5bd52ce6",
      "metadata": {
        "id": "5bd52ce6",
        "outputId": "f6334645-ca6b-48e9-90f7-106bce47b598"
      },
      "outputs": [
        {
          "name": "stdout",
          "output_type": "stream",
          "text": [
            "[12, 34, 'element3', 56.3, 'element4', 23]\n"
          ]
        }
      ],
      "source": [
        "print(listcontoh)"
      ]
    },
    {
      "cell_type": "code",
      "execution_count": null,
      "id": "e6f15c0a",
      "metadata": {
        "id": "e6f15c0a",
        "outputId": "454b9f4f-b8cb-4391-825f-6611fab21eaf"
      },
      "outputs": [
        {
          "data": {
            "text/plain": [
              "12"
            ]
          },
          "execution_count": 27,
          "metadata": {},
          "output_type": "execute_result"
        }
      ],
      "source": [
        "listcontoh.pop(0)"
      ]
    },
    {
      "cell_type": "code",
      "execution_count": null,
      "id": "8094fe8b",
      "metadata": {
        "id": "8094fe8b",
        "outputId": "c3e594dd-b47b-4287-b5fe-a1131b88252d"
      },
      "outputs": [
        {
          "name": "stdout",
          "output_type": "stream",
          "text": [
            "['element3', 56.3, 'element4', 23]\n"
          ]
        }
      ],
      "source": [
        "print(listcontoh)"
      ]
    },
    {
      "cell_type": "code",
      "execution_count": null,
      "id": "3b264d37",
      "metadata": {
        "id": "3b264d37"
      },
      "outputs": [],
      "source": [
        "listtambah = [2, 9]"
      ]
    },
    {
      "cell_type": "code",
      "execution_count": null,
      "id": "4fe79c92",
      "metadata": {
        "id": "4fe79c92"
      },
      "outputs": [],
      "source": [
        "listcontoh.extend(listtambah)"
      ]
    },
    {
      "cell_type": "code",
      "execution_count": null,
      "id": "259d06af",
      "metadata": {
        "id": "259d06af",
        "outputId": "822e7dbd-4f95-48a3-fd24-4e6be9992047"
      },
      "outputs": [
        {
          "name": "stdout",
          "output_type": "stream",
          "text": [
            "['element3', 56.3, 'element4', 23, 2, 9]\n"
          ]
        }
      ],
      "source": [
        "print(listcontoh)"
      ]
    },
    {
      "cell_type": "code",
      "execution_count": null,
      "id": "2833197e",
      "metadata": {
        "id": "2833197e"
      },
      "outputs": [],
      "source": [
        "stringsaya = \"Hari ini saya belajar tipe data di python\""
      ]
    },
    {
      "cell_type": "code",
      "execution_count": null,
      "id": "11794124",
      "metadata": {
        "id": "11794124",
        "outputId": "011e922d-aeb8-44e6-f0ff-9f8bda580d6f"
      },
      "outputs": [
        {
          "data": {
            "text/plain": [
              "str"
            ]
          },
          "execution_count": 33,
          "metadata": {},
          "output_type": "execute_result"
        }
      ],
      "source": [
        "type(stringsaya)"
      ]
    },
    {
      "cell_type": "code",
      "execution_count": null,
      "id": "2dc729eb",
      "metadata": {
        "id": "2dc729eb",
        "outputId": "d824b5b3-2270-45e9-cf08-c3f0bdc63038"
      },
      "outputs": [
        {
          "data": {
            "text/plain": [
              "'a'"
            ]
          },
          "execution_count": 34,
          "metadata": {},
          "output_type": "execute_result"
        }
      ],
      "source": [
        "stringsaya[1]"
      ]
    },
    {
      "cell_type": "code",
      "execution_count": null,
      "id": "16ef462b",
      "metadata": {
        "id": "16ef462b"
      },
      "outputs": [],
      "source": [
        "tinydict = {'nama': 'budi', 'nomorpegawai': 45, 'departemen':'pertahanan'}"
      ]
    },
    {
      "cell_type": "code",
      "execution_count": null,
      "id": "c2236145",
      "metadata": {
        "id": "c2236145",
        "outputId": "642f4a76-aa69-4b10-f938-590899bef954"
      },
      "outputs": [
        {
          "name": "stdout",
          "output_type": "stream",
          "text": [
            "45\n"
          ]
        }
      ],
      "source": [
        "print(tinydict['nomorpegawai'])"
      ]
    },
    {
      "cell_type": "code",
      "execution_count": null,
      "id": "0a093b6f",
      "metadata": {
        "id": "0a093b6f",
        "outputId": "ba4b2b82-ea3b-43f2-97dc-4631bd4a2fd6"
      },
      "outputs": [
        {
          "name": "stdout",
          "output_type": "stream",
          "text": [
            "2.5\n",
            "<class 'float'>\n",
            "2\n",
            "<class 'int'>\n"
          ]
        }
      ],
      "source": [
        "floatsaya=2.5\n",
        "intsaya = int(floatsaya)\n",
        "print(floatsaya)\n",
        "print(type(floatsaya))\n",
        "print(intsaya)\n",
        "print(type(intsaya))"
      ]
    },
    {
      "cell_type": "code",
      "execution_count": null,
      "id": "6085a1ee",
      "metadata": {
        "id": "6085a1ee",
        "outputId": "936919b5-5826-4a0d-a675-bf6bc9da9f49"
      },
      "outputs": [
        {
          "name": "stdout",
          "output_type": "stream",
          "text": [
            "False\n"
          ]
        }
      ],
      "source": [
        "intsaya = 0\n",
        "boolsaya = bool(intsaya)\n",
        "print(boolsaya)"
      ]
    },
    {
      "cell_type": "code",
      "execution_count": null,
      "id": "bada638c",
      "metadata": {
        "id": "bada638c"
      },
      "outputs": [],
      "source": [
        ""
      ]
    }
  ],
  "metadata": {
    "kernelspec": {
      "display_name": "Python 3 (ipykernel)",
      "language": "python",
      "name": "python3"
    },
    "language_info": {
      "codemirror_mode": {
        "name": "ipython",
        "version": 3
      },
      "file_extension": ".py",
      "mimetype": "text/x-python",
      "name": "python",
      "nbconvert_exporter": "python",
      "pygments_lexer": "ipython3",
      "version": "3.8.10"
    },
    "colab": {
      "name": "contoh Notebook.ipynb",
      "provenance": []
    }
  },
  "nbformat": 4,
  "nbformat_minor": 5
}