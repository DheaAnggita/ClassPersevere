{
  "cells": [
    {
      "cell_type": "markdown",
      "id": "769d6be9",
      "metadata": {
        "id": "769d6be9"
      },
      "source": [
        "# Contoh Heading1\n",
        "## Heading 2\n",
        "### Heading 3"
      ]
    },
    {
      "cell_type": "code",
      "execution_count": null,
      "id": "052f6847",
      "metadata": {
        "id": "052f6847"
      },
      "outputs": [],
      "source": [
        "# Ini adalah penjelasan"
      ]
    },
    {
      "cell_type": "code",
      "execution_count": null,
      "id": "fe873cf4",
      "metadata": {
        "id": "fe873cf4",
        "outputId": "663985f1-e9d9-4db7-8ddd-06bbd58a92b2"
      },
      "outputs": [
        {
          "name": "stdout",
          "output_type": "stream",
          "text": [
            "Hello World\n"
          ]
        }
      ],
      "source": [
        "print('Hello World')"
      ]
    },
    {
      "cell_type": "code",
      "execution_count": null,
      "id": "d705f7e6",
      "metadata": {
        "id": "d705f7e6"
      },
      "outputs": [],
      "source": [
        "# operasi mencari luas persegi panjang\n",
        "panjang = 10\n",
        "lebar = 5\n",
        "luas = panjang * lebar"
      ]
    },
    {
      "cell_type": "code",
      "execution_count": null,
      "id": "c06e246e",
      "metadata": {
        "id": "c06e246e",
        "outputId": "47e70844-66cc-48fc-98b9-b63eb2e4047f"
      },
      "outputs": [
        {
          "name": "stdout",
          "output_type": "stream",
          "text": [
            "50\n"
          ]
        }
      ],
      "source": [
        "print (luas)"
      ]
    },
    {
      "cell_type": "code",
      "execution_count": null,
      "id": "60d11313",
      "metadata": {
        "id": "60d11313",
        "outputId": "9882925d-b457-41eb-e0aa-b7444db17639"
      },
      "outputs": [
        {
          "name": "stdout",
          "output_type": "stream",
          "text": [
            "50\n"
          ]
        }
      ],
      "source": [
        "a = 10 # panjang persegi panjang\n",
        "b = 5 # lebar persegi panjang\n",
        "c = a * b # luas persegi panjang\n",
        "print(c)"
      ]
    },
    {
      "cell_type": "markdown",
      "id": "e8f09296",
      "metadata": {
        "id": "e8f09296"
      },
      "source": [
        "Clean code \n",
        "\n",
        "Self documented."
      ]
    },
    {
      "cell_type": "code",
      "execution_count": null,
      "id": "cc752923",
      "metadata": {
        "id": "cc752923",
        "outputId": "5e76b377-aa24-4e93-9109-90afc40d0933"
      },
      "outputs": [
        {
          "data": {
            "text/plain": [
              "str"
            ]
          },
          "execution_count": 12,
          "metadata": {},
          "output_type": "execute_result"
        }
      ],
      "source": [
        "dataFloat = \"10\"\n",
        "type(dataFloat)"
      ]
    },
    {
      "cell_type": "code",
      "execution_count": null,
      "id": "8055fb8a",
      "metadata": {
        "id": "8055fb8a"
      },
      "outputs": [],
      "source": [
        "listcontoh = [12, 34, 'element3', 56.3]"
      ]
    },
    {
      "cell_type": "code",
      "execution_count": null,
      "id": "64affaed",
      "metadata": {
        "id": "64affaed",
        "outputId": "7e7be5f8-2b19-4803-cd0b-727536dc0552"
      },
      "outputs": [
        {
          "name": "stdout",
          "output_type": "stream",
          "text": [
            "[12, 34, 'element3', 56.3]\n"
          ]
        }
      ],
      "source": [
        "print(listcontoh)"
      ]
    },
    {
      "cell_type": "code",
      "execution_count": null,
      "id": "88416569",
      "metadata": {
        "id": "88416569",
        "outputId": "2657586b-1c3c-4f01-cee5-3a02df8fc342"
      },
      "outputs": [
        {
          "data": {
            "text/plain": [
              "34"
            ]
          },
          "execution_count": 15,
          "metadata": {},
          "output_type": "execute_result"
        }
      ],
      "source": [
        "listcontoh[1]"
      ]
    },
    {
      "cell_type": "code",
      "execution_count": null,
      "id": "d9b1ed5c",
      "metadata": {
        "id": "d9b1ed5c",
        "outputId": "0886aef6-6ce3-402c-fced-c4922d312868"
      },
      "outputs": [
        {
          "name": "stdout",
          "output_type": "stream",
          "text": [
            "[34, 56.3]\n"
          ]
        }
      ],
      "source": [
        "print(listcontoh[1:4:2])"
      ]
    },
    {
      "cell_type": "code",
      "execution_count": null,
      "id": "76021022",
      "metadata": {
        "id": "76021022"
      },
      "outputs": [],
      "source": [
        "listcontoh.append(23)"
      ]
    },
    {
      "cell_type": "code",
      "execution_count": null,
      "id": "97984e2c",
      "metadata": {
        "id": "97984e2c",
        "outputId": "9e73b40b-89ef-4a5f-d96d-4612b45ab6e0"
      },
      "outputs": [
        {
          "name": "stdout",
          "output_type": "stream",
          "text": [
            "[12, 34, 'element3', 56.3, 23]\n"
          ]
        }
      ],
      "source": [
        "print(listcontoh)"
      ]
    },
    {
      "cell_type": "code",
      "execution_count": null,
      "id": "706ab914",
      "metadata": {
        "id": "706ab914"
      },
      "outputs": [],
      "source": [
        "listcontoh.insert(4, 'element4')"
      ]
    },
    {
      "cell_type": "code",
      "execution_count": null,
      "id": "5bd52ce6",
      "metadata": {
        "id": "5bd52ce6",
        "outputId": "f6334645-ca6b-48e9-90f7-106bce47b598"
      },
      "outputs": [
        {
          "name": "stdout",
          "output_type": "stream",
          "text": [
            "[12, 34, 'element3', 56.3, 'element4', 23]\n"
          ]
        }
      ],
      "source": [
        "print(listcontoh)"
      ]
    },
    {
      "cell_type": "code",
      "execution_count": null,
      "id": "e6f15c0a",
      "metadata": {
        "id": "e6f15c0a",
        "outputId": "454b9f4f-b8cb-4391-825f-6611fab21eaf"
      },
      "outputs": [
        {
          "data": {
            "text/plain": [
              "12"
            ]
          },
          "execution_count": 27,
          "metadata": {},
          "output_type": "execute_result"
        }
      ],
      "source": [
        "listcontoh.pop(0)"
      ]
    },
    {
      "cell_type": "code",
      "execution_count": null,
      "id": "8094fe8b",
      "metadata": {
        "id": "8094fe8b",
        "outputId": "c3e594dd-b47b-4287-b5fe-a1131b88252d"
      },
      "outputs": [
        {
          "name": "stdout",
          "output_type": "stream",
          "text": [
            "['element3', 56.3, 'element4', 23]\n"
          ]
        }
      ],
      "source": [
        "print(listcontoh)"
      ]
    },
    {
      "cell_type": "code",
      "execution_count": null,
      "id": "3b264d37",
      "metadata": {
        "id": "3b264d37"
      },
      "outputs": [],
      "source": [
        "listtambah = [2, 9]"
      ]
    },
    {
      "cell_type": "code",
      "execution_count": null,
      "id": "4fe79c92",
      "metadata": {
        "id": "4fe79c92"
      },
      "outputs": [],
      "source": [
        "listcontoh.extend(listtambah)"
      ]
    },
    {
      "cell_type": "code",
      "execution_count": null,
      "id": "259d06af",
      "metadata": {
        "id": "259d06af",
        "outputId": "822e7dbd-4f95-48a3-fd24-4e6be9992047"
      },
      "outputs": [
        {
          "name": "stdout",
          "output_type": "stream",
          "text": [
            "['element3', 56.3, 'element4', 23, 2, 9]\n"
          ]
        }
      ],
      "source": [
        "print(listcontoh)"
      ]
    },
    {
      "cell_type": "code",
      "execution_count": null,
      "id": "2833197e",
      "metadata": {
        "id": "2833197e"
      },
      "outputs": [],
      "source": [
        "stringsaya = \"Hari ini saya belajar tipe data di python\""
      ]
    },
    {
      "cell_type": "code",
      "execution_count": null,
      "id": "11794124",
      "metadata": {
        "id": "11794124",
        "outputId": "011e922d-aeb8-44e6-f0ff-9f8bda580d6f"
      },
      "outputs": [
        {
          "data": {
            "text/plain": [
              "str"
            ]
          },
          "execution_count": 33,
          "metadata": {},
          "output_type": "execute_result"
        }
      ],
      "source": [
        "type(stringsaya)"
      ]
    },
    {
      "cell_type": "code",
      "execution_count": null,
      "id": "2dc729eb",
      "metadata": {
        "id": "2dc729eb",
        "outputId": "d824b5b3-2270-45e9-cf08-c3f0bdc63038"
      },
      "outputs": [
        {
          "data": {
            "text/plain": [
              "'a'"
            ]
          },
          "execution_count": 34,
          "metadata": {},
          "output_type": "execute_result"
        }
      ],
      "source": [
        "stringsaya[1]"
      ]
    },
    {
      "cell_type": "code",
      "execution_count": null,
      "id": "16ef462b",
      "metadata": {
        "id": "16ef462b"
      },
      "outputs": [],
      "source": [
        "tinydict = {'nama': 'budi', 'nomorpegawai': 45, 'departemen':'pertahanan'}"
      ]
    },
    {
      "cell_type": "code",
      "execution_count": null,
      "id": "c2236145",
      "metadata": {
        "id": "c2236145",
        "outputId": "642f4a76-aa69-4b10-f938-590899bef954"
      },
      "outputs": [
        {
          "name": "stdout",
          "output_type": "stream",
          "text": [
            "45\n"
          ]
        }
      ],
      "source": [
        "print(tinydict['nomorpegawai'])"
      ]
    },
    {
      "cell_type": "code",
      "execution_count": null,
      "id": "0a093b6f",
      "metadata": {
        "id": "0a093b6f",
        "outputId": "ba4b2b82-ea3b-43f2-97dc-4631bd4a2fd6"
      },
      "outputs": [
        {
          "name": "stdout",
          "output_type": "stream",
          "text": [
            "2.5\n",
            "<class 'float'>\n",
            "2\n",
            "<class 'int'>\n"
          ]
        }
      ],
      "source": [
        "floatsaya=2.5\n",
        "intsaya = int(floatsaya)\n",
        "print(floatsaya)\n",
        "print(type(floatsaya))\n",
        "print(intsaya)\n",
        "print(type(intsaya))"
      ]
    },
    {
      "cell_type": "code",
      "execution_count": null,
      "id": "6085a1ee",
      "metadata": {
        "id": "6085a1ee",
        "outputId": "936919b5-5826-4a0d-a675-bf6bc9da9f49"
      },
      "outputs": [
        {
          "name": "stdout",
          "output_type": "stream",
          "text": [
            "False\n"
          ]
        }
      ],
      "source": [
        "intsaya = 0\n",
        "boolsaya = bool(intsaya)\n",
        "print(boolsaya)"
      ]
    },
    {
      "cell_type": "markdown",
      "source": [
        "## User Defined function"
      ],
      "metadata": {
        "id": "hatOYXBCk3OF"
      },
      "id": "hatOYXBCk3OF"
    },
    {
      "cell_type": "code",
      "execution_count": 1,
      "id": "bada638c",
      "metadata": {
        "id": "bada638c"
      },
      "outputs": [],
      "source": [
        "def luasSegitiga(alas, tinggi):\n",
        "  luas = alas * tinggi * 0.5\n",
        "  return luas"
      ]
    },
    {
      "cell_type": "code",
      "source": [
        "luas = luasSegitiga(10, 5)\n",
        "print(luas)"
      ],
      "metadata": {
        "colab": {
          "base_uri": "https://localhost:8080/"
        },
        "id": "bC1CKwz5gt5A",
        "outputId": "f79c35e8-c82e-499c-e29b-d57d534d20cf"
      },
      "id": "bC1CKwz5gt5A",
      "execution_count": 2,
      "outputs": [
        {
          "output_type": "stream",
          "name": "stdout",
          "text": [
            "25.0\n"
          ]
        }
      ]
    },
    {
      "cell_type": "markdown",
      "source": [
        "## Default value in function"
      ],
      "metadata": {
        "id": "CKOJevKGkyxC"
      },
      "id": "CKOJevKGkyxC"
    },
    {
      "cell_type": "code",
      "source": [
        "def luasPersegiPanjang(sisi, panjang=0):\n",
        "  if panjang == 0:\n",
        "    luas = sisi*sisi\n",
        "  else:\n",
        "    luas = sisi*panjang\n",
        "  return luas\n"
      ],
      "metadata": {
        "id": "e_jhnNJng6Md"
      },
      "id": "e_jhnNJng6Md",
      "execution_count": 1,
      "outputs": []
    },
    {
      "cell_type": "code",
      "source": [
        "luas = luasPersegiPanjang(7)\n",
        "print(luas)"
      ],
      "metadata": {
        "colab": {
          "base_uri": "https://localhost:8080/"
        },
        "id": "3dQddlO1kevv",
        "outputId": "8d5ee1b2-8377-4b0e-a176-6a1fb0369e7b"
      },
      "id": "3dQddlO1kevv",
      "execution_count": 2,
      "outputs": [
        {
          "output_type": "stream",
          "name": "stdout",
          "text": [
            "49\n"
          ]
        }
      ]
    },
    {
      "cell_type": "code",
      "source": [
        "luas = luasPersegiPanjang(7, 3)\n",
        "print(luas)"
      ],
      "metadata": {
        "colab": {
          "base_uri": "https://localhost:8080/"
        },
        "id": "wxbl0sr2kmPm",
        "outputId": "2cc175eb-720e-43db-8e9f-85c674c84c8e"
      },
      "id": "wxbl0sr2kmPm",
      "execution_count": 3,
      "outputs": [
        {
          "output_type": "stream",
          "name": "stdout",
          "text": [
            "21\n"
          ]
        }
      ]
    },
    {
      "cell_type": "code",
      "source": [
        "print(pow(3,2)) # power = pangkat. \"**\""
      ],
      "metadata": {
        "colab": {
          "base_uri": "https://localhost:8080/"
        },
        "id": "CyTD2aW1kt4j",
        "outputId": "7a2e0424-3827-46ad-a709-1d851216c27c"
      },
      "id": "CyTD2aW1kt4j",
      "execution_count": 8,
      "outputs": [
        {
          "output_type": "stream",
          "name": "stdout",
          "text": [
            "9\n"
          ]
        }
      ]
    },
    {
      "cell_type": "code",
      "source": [
        "print(round(5.78501, 2))"
      ],
      "metadata": {
        "colab": {
          "base_uri": "https://localhost:8080/"
        },
        "id": "bdcER9xJm--t",
        "outputId": "efa9b4da-ffa6-4969-f97d-5ba8f892cb56"
      },
      "id": "bdcER9xJm--t",
      "execution_count": 11,
      "outputs": [
        {
          "output_type": "stream",
          "name": "stdout",
          "text": [
            "5.79\n"
          ]
        }
      ]
    },
    {
      "cell_type": "code",
      "source": [
        "varkompleks = 4+3j\n",
        "print(abs(varkompleks))"
      ],
      "metadata": {
        "colab": {
          "base_uri": "https://localhost:8080/"
        },
        "id": "SMJyYxRUnd8j",
        "outputId": "47cf384d-74d2-4963-a8d7-a1636f73ce5c"
      },
      "id": "SMJyYxRUnd8j",
      "execution_count": 15,
      "outputs": [
        {
          "output_type": "stream",
          "name": "stdout",
          "text": [
            "5.0\n"
          ]
        }
      ]
    },
    {
      "cell_type": "code",
      "source": [
        "stringsingleline = \"Saya belajar python\"\n",
        "print(stringsingleline)"
      ],
      "metadata": {
        "colab": {
          "base_uri": "https://localhost:8080/"
        },
        "id": "L7E75zXOnvmB",
        "outputId": "37e5b863-9169-4025-8c39-f77d454b1f76"
      },
      "id": "L7E75zXOnvmB",
      "execution_count": 16,
      "outputs": [
        {
          "output_type": "stream",
          "name": "stdout",
          "text": [
            "Saya belajar python\n"
          ]
        }
      ]
    },
    {
      "cell_type": "code",
      "source": [
        "stringmultiline = \\\n",
        "\"\"\"Saya belajar python.\n",
        "  Belajar python bisa lewat w3schools\"\"\""
      ],
      "metadata": {
        "id": "acA4_keXrMTr"
      },
      "id": "acA4_keXrMTr",
      "execution_count": 19,
      "outputs": []
    },
    {
      "cell_type": "code",
      "source": [
        "print(stringmultiline)"
      ],
      "metadata": {
        "colab": {
          "base_uri": "https://localhost:8080/"
        },
        "id": "fGFb_ICUrelH",
        "outputId": "db635bf4-3ea3-43cc-f0f8-a8dbcec56a3f"
      },
      "id": "fGFb_ICUrelH",
      "execution_count": 20,
      "outputs": [
        {
          "output_type": "stream",
          "name": "stdout",
          "text": [
            "Saya belajar python.\n",
            "  Belajar python bisa lewat w3schools\n"
          ]
        }
      ]
    },
    {
      "cell_type": "code",
      "source": [
        "str1 = \"Saya\"\n",
        "str2 = \"belajar\"\n",
        "str3 = \"python\"\n",
        "print(str1+\" \"+str2+\" \"+str3) # string concatenation"
      ],
      "metadata": {
        "colab": {
          "base_uri": "https://localhost:8080/"
        },
        "id": "tAy1vFlergi9",
        "outputId": "b9d91182-6feb-45da-dab3-d09c53353ae9"
      },
      "id": "tAy1vFlergi9",
      "execution_count": 25,
      "outputs": [
        {
          "output_type": "stream",
          "name": "stdout",
          "text": [
            "Saya belajar python\n"
          ]
        }
      ]
    },
    {
      "cell_type": "code",
      "source": [
        "print(str2 * 2)"
      ],
      "metadata": {
        "colab": {
          "base_uri": "https://localhost:8080/"
        },
        "id": "TeXuckAosagV",
        "outputId": "cec44117-4520-4be9-db86-2402b21abb9f"
      },
      "id": "TeXuckAosagV",
      "execution_count": 26,
      "outputs": [
        {
          "output_type": "stream",
          "name": "stdout",
          "text": [
            "belajarbelajar\n"
          ]
        }
      ]
    },
    {
      "cell_type": "code",
      "source": [
        "checkstr = \"e\"\n",
        "print(checkstr in str1)\n",
        "print(checkstr in str2)\n",
        "print(checkstr in str3)"
      ],
      "metadata": {
        "colab": {
          "base_uri": "https://localhost:8080/"
        },
        "id": "3hLhD4qms0vf",
        "outputId": "c474bd75-7f4c-43df-b3ee-aec034c42972"
      },
      "id": "3hLhD4qms0vf",
      "execution_count": 30,
      "outputs": [
        {
          "output_type": "stream",
          "name": "stdout",
          "text": [
            "False\n",
            "True\n",
            "False\n"
          ]
        }
      ]
    },
    {
      "cell_type": "code",
      "source": [
        "![picture](https://drive.google.com/file/d/1HD1BFM-0YAFHE-sx0vgy3RDhyDSLDwkQ/view?usp=sharing)"
      ],
      "metadata": {
        "colab": {
          "base_uri": "https://localhost:8080/"
        },
        "id": "FYi8NQ2RtHPL",
        "outputId": "9e39d5dc-2536-4bb5-c505-8dfa7b1e5587"
      },
      "id": "FYi8NQ2RtHPL",
      "execution_count": 33,
      "outputs": [
        {
          "output_type": "stream",
          "name": "stdout",
          "text": [
            "/bin/bash: -c: line 0: syntax error near unexpected token `https://drive.google.com/file/d/1HD1BFM-0YAFHE-sx0vgy3RDhyDSLDwkQ/view?usp=sharing'\n",
            "/bin/bash: -c: line 0: `[picture](https://drive.google.com/file/d/1HD1BFM-0YAFHE-sx0vgy3RDhyDSLDwkQ/view?usp=sharing)'\n"
          ]
        }
      ]
    },
    {
      "cell_type": "code",
      "source": [
        "print(str1.upper())"
      ],
      "metadata": {
        "colab": {
          "base_uri": "https://localhost:8080/"
        },
        "id": "7LefKNusugde",
        "outputId": "260726e7-49c3-4f17-cf46-337354e4c34e"
      },
      "id": "7LefKNusugde",
      "execution_count": 34,
      "outputs": [
        {
          "output_type": "stream",
          "name": "stdout",
          "text": [
            "SAYA\n"
          ]
        }
      ]
    },
    {
      "cell_type": "code",
      "source": [
        "print(str1.lower())"
      ],
      "metadata": {
        "colab": {
          "base_uri": "https://localhost:8080/"
        },
        "id": "qKj4xUJEvNBR",
        "outputId": "078c44c3-d866-45d3-ac9d-8f44799ecd04"
      },
      "id": "qKj4xUJEvNBR",
      "execution_count": 35,
      "outputs": [
        {
          "output_type": "stream",
          "name": "stdout",
          "text": [
            "saya\n"
          ]
        }
      ]
    },
    {
      "cell_type": "code",
      "source": [
        "print(str1)\n",
        "print(str1.replace('a', str1))"
      ],
      "metadata": {
        "colab": {
          "base_uri": "https://localhost:8080/"
        },
        "id": "9yyZzoy5vSHe",
        "outputId": "1db304c3-6317-4bd7-a344-c6dbacdcdb96"
      },
      "id": "9yyZzoy5vSHe",
      "execution_count": 40,
      "outputs": [
        {
          "output_type": "stream",
          "name": "stdout",
          "text": [
            "Saya\n",
            "SSayaySaya\n"
          ]
        }
      ]
    },
    {
      "cell_type": "code",
      "source": [
        "harga = 5000\n",
        "jumlah = 1\n",
        "pesanHarga = \"harga {} tomat adalah {} rupiah\"\n",
        "print(pesanHarga.format(jumlah, harga))"
      ],
      "metadata": {
        "colab": {
          "base_uri": "https://localhost:8080/"
        },
        "id": "rONmw6YpvVn1",
        "outputId": "2fc3a68c-2fa0-4a80-fe91-0d99b498e894"
      },
      "id": "rONmw6YpvVn1",
      "execution_count": 42,
      "outputs": [
        {
          "output_type": "stream",
          "name": "stdout",
          "text": [
            "harga 1 tomat adalah 5000 rupiah\n"
          ]
        }
      ]
    },
    {
      "cell_type": "code",
      "source": [
        "nilaidesimal = 5/3\n",
        "print(nilaidesimal)"
      ],
      "metadata": {
        "colab": {
          "base_uri": "https://localhost:8080/"
        },
        "id": "z4c7lqYqwiGS",
        "outputId": "eff95dde-8925-414f-87c5-a10c1cb394cd"
      },
      "id": "z4c7lqYqwiGS",
      "execution_count": 44,
      "outputs": [
        {
          "output_type": "stream",
          "name": "stdout",
          "text": [
            "1.6666666666666667\n"
          ]
        }
      ]
    },
    {
      "cell_type": "code",
      "source": [
        "pesanDesimal = \"nilai desimal: {:.2f}\"\n",
        "print(pesanDesimal.format(nilaidesimal))"
      ],
      "metadata": {
        "colab": {
          "base_uri": "https://localhost:8080/"
        },
        "id": "7wrR6x1RxBUM",
        "outputId": "b0874809-f524-4730-e047-181fc6f4d5af"
      },
      "id": "7wrR6x1RxBUM",
      "execution_count": 48,
      "outputs": [
        {
          "output_type": "stream",
          "name": "stdout",
          "text": [
            "nilai desimal: 1.67\n"
          ]
        }
      ]
    },
    {
      "cell_type": "code",
      "source": [
        "harga = 5000\n",
        "jumlah = 1\n",
        "pajak = 20\n",
        "pesanHarga = \"harga {0} tomat adalah {2} rupiah dengan pajak {1} persen\"\n",
        "print(pesanHarga.format(jumlah,pajak, harga))"
      ],
      "metadata": {
        "colab": {
          "base_uri": "https://localhost:8080/"
        },
        "id": "Zy5L7UYwyIpA",
        "outputId": "6fbe1d5a-a0b5-4677-a66b-d00dee5575b6"
      },
      "id": "Zy5L7UYwyIpA",
      "execution_count": 52,
      "outputs": [
        {
          "output_type": "stream",
          "name": "stdout",
          "text": [
            "harga 1 tomat adalah 5000 rupiah dengan pajak 20 persen\n"
          ]
        }
      ]
    },
    {
      "cell_type": "code",
      "source": [
        "nama = \"adi\"\n",
        "usia = 10\n",
        "pesan = \"nama {0}. {0} berusia {1} tahun\"\n",
        "print(pesan.format(nama, usia))"
      ],
      "metadata": {
        "colab": {
          "base_uri": "https://localhost:8080/"
        },
        "id": "oC-cx_HOyxcY",
        "outputId": "c6865173-5a2a-4e3f-aaa5-33a9d72ae110"
      },
      "id": "oC-cx_HOyxcY",
      "execution_count": 55,
      "outputs": [
        {
          "output_type": "stream",
          "name": "stdout",
          "text": [
            "nama adi. adi berusia 10 tahun\n"
          ]
        }
      ]
    },
    {
      "cell_type": "code",
      "source": [
        "pesan = \"Saya punya {barang} merek {merek}\"\n",
        "print(pesan.format(merek = \"boeing\", barang = \"HP\"))"
      ],
      "metadata": {
        "colab": {
          "base_uri": "https://localhost:8080/"
        },
        "id": "D5BHI3IUze_M",
        "outputId": "02df8290-979e-43fe-a4ae-63c8a2e0be84"
      },
      "id": "D5BHI3IUze_M",
      "execution_count": 57,
      "outputs": [
        {
          "output_type": "stream",
          "name": "stdout",
          "text": [
            "Saya punya HP merek boeing\n"
          ]
        }
      ]
    },
    {
      "cell_type": "code",
      "source": [
        "HP = \"HP\"\n",
        "merek = \"boeing\"\n",
        "jumlah = 2\n",
        "kecepatan =  100.556745675 #float\n",
        "print(\"Saya punya %d buah %s merek %s dengan kecepatan %d\" \\\n",
        "      %(jumlah, HP, merek, kecepatan)) #placeholder"
      ],
      "metadata": {
        "colab": {
          "base_uri": "https://localhost:8080/"
        },
        "id": "9H6EI8cT0BkH",
        "outputId": "10d34e2a-bf2b-4234-b725-a3fd1dc0ee26"
      },
      "id": "9H6EI8cT0BkH",
      "execution_count": 70,
      "outputs": [
        {
          "output_type": "stream",
          "name": "stdout",
          "text": [
            "Saya punya 2 buah HP merek boeing dengan kecepatan 100\n"
          ]
        }
      ]
    },
    {
      "cell_type": "code",
      "source": [
        "tambah10 = lambda arg1 : arg1 + 10\n",
        "print(tambah10(20))"
      ],
      "metadata": {
        "id": "wcqlCinxpvnk",
        "outputId": "bcc01550-7602-4847-de0a-bf7dcd4dc1c6",
        "colab": {
          "base_uri": "https://localhost:8080/"
        }
      },
      "id": "wcqlCinxpvnk",
      "execution_count": 3,
      "outputs": [
        {
          "output_type": "stream",
          "name": "stdout",
          "text": [
            "30\n"
          ]
        }
      ]
    },
    {
      "cell_type": "code",
      "source": [
        "luasSegitiga = lambda alas, tinggi : 0.5 * alas * tinggi\n",
        "print(luasSegitiga(10, 5))"
      ],
      "metadata": {
        "id": "4Yy2m6LlqVhO",
        "outputId": "c1e9a912-f0a2-429c-c695-b00a0b552b2f",
        "colab": {
          "base_uri": "https://localhost:8080/"
        }
      },
      "id": "4Yy2m6LlqVhO",
      "execution_count": 4,
      "outputs": [
        {
          "output_type": "stream",
          "name": "stdout",
          "text": [
            "25.0\n"
          ]
        }
      ]
    },
    {
      "cell_type": "code",
      "source": [
        "luasLingkaran = lambda jari : 3.14 * jari*jari"
      ],
      "metadata": {
        "id": "-x0vaZeEyORc"
      },
      "id": "-x0vaZeEyORc",
      "execution_count": 23,
      "outputs": []
    },
    {
      "cell_type": "code",
      "source": [
        "print(luasLingkaran(7)) # print(3.14*7*7)"
      ],
      "metadata": {
        "id": "0lBIDpPcyWtQ",
        "outputId": "51573f27-6925-4128-a317-800c1f0c6eb4",
        "colab": {
          "base_uri": "https://localhost:8080/"
        }
      },
      "id": "0lBIDpPcyWtQ",
      "execution_count": 24,
      "outputs": [
        {
          "output_type": "stream",
          "name": "stdout",
          "text": [
            "153.86\n"
          ]
        }
      ]
    },
    {
      "cell_type": "code",
      "source": [
        "x = lambda a : a + 10\n",
        "print(x(5))\n",
        "print(5+10)"
      ],
      "metadata": {
        "colab": {
          "base_uri": "https://localhost:8080/"
        },
        "id": "eQEjoHrw3N5d",
        "outputId": "140b8b28-f778-46fb-e3b2-344bc5c6a798"
      },
      "id": "eQEjoHrw3N5d",
      "execution_count": 1,
      "outputs": [
        {
          "output_type": "stream",
          "name": "stdout",
          "text": [
            "15\n"
          ]
        }
      ]
    },
    {
      "cell_type": "code",
      "source": [
        "x = lambda a, b : a * b\n",
        "print(x(5, 6))"
      ],
      "metadata": {
        "id": "8Ivxva4HXaU7",
        "outputId": "c0ef107e-c27b-4fcc-d349-cadb0980cc97",
        "colab": {
          "base_uri": "https://localhost:8080/"
        }
      },
      "id": "8Ivxva4HXaU7",
      "execution_count": 2,
      "outputs": [
        {
          "output_type": "stream",
          "name": "stdout",
          "text": [
            "30\n"
          ]
        }
      ]
    },
    {
      "cell_type": "code",
      "source": [
        "x = lambda a, b, c : a + b + c\n",
        "print(x(5, 6, 2))"
      ],
      "metadata": {
        "id": "fHjpDZgwXpfD",
        "outputId": "bb7986db-4f68-43a0-b114-86c8435ed4e1",
        "colab": {
          "base_uri": "https://localhost:8080/"
        }
      },
      "id": "fHjpDZgwXpfD",
      "execution_count": 4,
      "outputs": [
        {
          "output_type": "stream",
          "name": "stdout",
          "text": [
            "13\n"
          ]
        }
      ]
    },
    {
      "cell_type": "markdown",
      "source": [
        "## membuat generator"
      ],
      "metadata": {
        "id": "9mdf_-VuZ0A5"
      },
      "id": "9mdf_-VuZ0A5"
    },
    {
      "cell_type": "code",
      "source": [
        "def generator_cetak():\n",
        "  n = 1\n",
        "  print('cetak pertama kali')\n",
        "  yield n\n",
        "\n",
        "  n += 1\n",
        "  print('dicetak kedua kali')\n",
        "  yield n\n",
        "\n",
        "  n += 1 \n",
        "  print('dicetak ketiga kali')\n",
        "  yield n"
      ],
      "metadata": {
        "id": "yaFvKp-bqtYU"
      },
      "id": "yaFvKp-bqtYU",
      "execution_count": 5,
      "outputs": []
    },
    {
      "cell_type": "code",
      "source": [
        "gen_cetak = generator_cetak()"
      ],
      "metadata": {
        "id": "MiNewSkormNX"
      },
      "id": "MiNewSkormNX",
      "execution_count": 47,
      "outputs": []
    },
    {
      "cell_type": "code",
      "source": [
        "next(gen_cetak)"
      ],
      "metadata": {
        "id": "IWhcIcEjr2Pb",
        "outputId": "82f19bb5-a325-479e-97a6-6504ab8a31b6",
        "colab": {
          "base_uri": "https://localhost:8080/"
        }
      },
      "id": "IWhcIcEjr2Pb",
      "execution_count": 48,
      "outputs": [
        {
          "output_type": "stream",
          "name": "stdout",
          "text": [
            "cetak pertama kali\n"
          ]
        },
        {
          "output_type": "execute_result",
          "data": {
            "text/plain": [
              "1"
            ]
          },
          "metadata": {},
          "execution_count": 48
        }
      ]
    },
    {
      "cell_type": "code",
      "source": [
        "next(gen_cetak)"
      ],
      "metadata": {
        "id": "fpprV7SwsD1f",
        "outputId": "0ba17ed8-6c35-467b-da0b-ebfbba0fd162",
        "colab": {
          "base_uri": "https://localhost:8080/"
        }
      },
      "id": "fpprV7SwsD1f",
      "execution_count": 49,
      "outputs": [
        {
          "output_type": "stream",
          "name": "stdout",
          "text": [
            "dicetak kedua kali\n"
          ]
        },
        {
          "output_type": "execute_result",
          "data": {
            "text/plain": [
              "2"
            ]
          },
          "metadata": {},
          "execution_count": 49
        }
      ]
    },
    {
      "cell_type": "code",
      "source": [
        "next(gen_cetak) # raise exception"
      ],
      "metadata": {
        "id": "N5KWqkHpr2zz",
        "outputId": "86edc84d-a6c0-452e-d1f4-bc6256f2d411",
        "colab": {
          "base_uri": "https://localhost:8080/"
        }
      },
      "id": "N5KWqkHpr2zz",
      "execution_count": 50,
      "outputs": [
        {
          "output_type": "stream",
          "name": "stdout",
          "text": [
            "dicetak ketiga kali\n"
          ]
        },
        {
          "output_type": "execute_result",
          "data": {
            "text/plain": [
              "3"
            ]
          },
          "metadata": {},
          "execution_count": 50
        }
      ]
    },
    {
      "cell_type": "code",
      "source": [
        "try:\n",
        "  next(gen_cetak)\n",
        "except:\n",
        "  print(\"generator sudah berakhir\")"
      ],
      "metadata": {
        "id": "VuxzmmUhsW64",
        "outputId": "c9e01e8c-4b52-4da7-b4fa-57385216c10f",
        "colab": {
          "base_uri": "https://localhost:8080/"
        }
      },
      "id": "VuxzmmUhsW64",
      "execution_count": 51,
      "outputs": [
        {
          "output_type": "stream",
          "name": "stdout",
          "text": [
            "generator sudah berakhir\n"
          ]
        }
      ]
    },
    {
      "cell_type": "code",
      "source": [
        "# A simple generator function\n",
        "def my_gen():\n",
        "  n = 1\n",
        "  print('cetak pertama kali')\n",
        "  yield n\n",
        "\n",
        "  n += 1\n",
        "  print('dicetak kedua kali')\n",
        "  yield n\n",
        "\n",
        "  n += 1\n",
        "  print('dicetak ketiga kali')\n",
        "  yield n"
      ],
      "metadata": {
        "id": "_ZyE_lQwX3P_"
      },
      "id": "_ZyE_lQwX3P_",
      "execution_count": 5,
      "outputs": []
    },
    {
      "cell_type": "markdown",
      "source": [
        "## Generator saat pertama dipanggil tidak ada yang dilakukan"
      ],
      "metadata": {
        "id": "fKQNc4BOZsIi"
      },
      "id": "fKQNc4BOZsIi"
    },
    {
      "cell_type": "code",
      "source": [
        "a = my_gen()"
      ],
      "metadata": {
        "id": "pcgC2Xu5ZjdJ"
      },
      "id": "pcgC2Xu5ZjdJ",
      "execution_count": 6,
      "outputs": []
    },
    {
      "cell_type": "code",
      "source": [
        "next(a)"
      ],
      "metadata": {
        "id": "w4QYzOiQZnBH",
        "outputId": "7a611c4d-4edb-4368-d44f-c311a3b6ad11",
        "colab": {
          "base_uri": "https://localhost:8080/"
        }
      },
      "id": "w4QYzOiQZnBH",
      "execution_count": 7,
      "outputs": [
        {
          "output_type": "stream",
          "name": "stdout",
          "text": [
            "cetak pertama kali\n"
          ]
        },
        {
          "output_type": "execute_result",
          "data": {
            "text/plain": [
              "1"
            ]
          },
          "metadata": {},
          "execution_count": 7
        }
      ]
    },
    {
      "cell_type": "code",
      "source": [
        "next(a)"
      ],
      "metadata": {
        "id": "KygXZFx6ZpvH",
        "outputId": "b714ec14-b9ff-4102-80ab-5196671b2952",
        "colab": {
          "base_uri": "https://localhost:8080/"
        }
      },
      "id": "KygXZFx6ZpvH",
      "execution_count": 8,
      "outputs": [
        {
          "output_type": "stream",
          "name": "stdout",
          "text": [
            "dicetak kedua kali\n"
          ]
        },
        {
          "output_type": "execute_result",
          "data": {
            "text/plain": [
              "2"
            ]
          },
          "metadata": {},
          "execution_count": 8
        }
      ]
    },
    {
      "cell_type": "code",
      "source": [
        "next(a)"
      ],
      "metadata": {
        "id": "GEIuDvCSZ8Mf",
        "outputId": "695b433b-430c-41f3-8667-0fe8296374f2",
        "colab": {
          "base_uri": "https://localhost:8080/"
        }
      },
      "id": "GEIuDvCSZ8Mf",
      "execution_count": 9,
      "outputs": [
        {
          "output_type": "stream",
          "name": "stdout",
          "text": [
            "dicetak ketiga kali\n"
          ]
        },
        {
          "output_type": "execute_result",
          "data": {
            "text/plain": [
              "3"
            ]
          },
          "metadata": {},
          "execution_count": 9
        }
      ]
    },
    {
      "cell_type": "code",
      "source": [
        "next(a)"
      ],
      "metadata": {
        "id": "ndG1UghSZ-V2",
        "outputId": "2d92f7df-8171-4027-cbd5-d63ac7f37f62",
        "colab": {
          "base_uri": "https://localhost:8080/",
          "height": 165
        }
      },
      "id": "ndG1UghSZ-V2",
      "execution_count": 10,
      "outputs": [
        {
          "output_type": "error",
          "ename": "StopIteration",
          "evalue": "ignored",
          "traceback": [
            "\u001b[0;31m---------------------------------------------------------------------------\u001b[0m",
            "\u001b[0;31mStopIteration\u001b[0m                             Traceback (most recent call last)",
            "\u001b[0;32m<ipython-input-10-15841f3f11d4>\u001b[0m in \u001b[0;36m<module>\u001b[0;34m()\u001b[0m\n\u001b[0;32m----> 1\u001b[0;31m \u001b[0mnext\u001b[0m\u001b[0;34m(\u001b[0m\u001b[0ma\u001b[0m\u001b[0;34m)\u001b[0m\u001b[0;34m\u001b[0m\u001b[0;34m\u001b[0m\u001b[0m\n\u001b[0m",
            "\u001b[0;31mStopIteration\u001b[0m: "
          ]
        }
      ]
    },
    {
      "cell_type": "code",
      "source": [
        "next(a)"
      ],
      "metadata": {
        "id": "ilBObXmnZ_pe",
        "outputId": "24edb171-273c-4703-874c-30517ea1e285",
        "colab": {
          "base_uri": "https://localhost:8080/",
          "height": 165
        }
      },
      "id": "ilBObXmnZ_pe",
      "execution_count": 11,
      "outputs": [
        {
          "output_type": "error",
          "ename": "StopIteration",
          "evalue": "ignored",
          "traceback": [
            "\u001b[0;31m---------------------------------------------------------------------------\u001b[0m",
            "\u001b[0;31mStopIteration\u001b[0m                             Traceback (most recent call last)",
            "\u001b[0;32m<ipython-input-11-15841f3f11d4>\u001b[0m in \u001b[0;36m<module>\u001b[0;34m()\u001b[0m\n\u001b[0;32m----> 1\u001b[0;31m \u001b[0mnext\u001b[0m\u001b[0;34m(\u001b[0m\u001b[0ma\u001b[0m\u001b[0;34m)\u001b[0m\u001b[0;34m\u001b[0m\u001b[0;34m\u001b[0m\u001b[0m\n\u001b[0m",
            "\u001b[0;31mStopIteration\u001b[0m: "
          ]
        }
      ]
    },
    {
      "cell_type": "code",
      "source": [
        "for item in my_gen():\n",
        "  print(item)"
      ],
      "metadata": {
        "id": "YF1LYaljaK9w",
        "outputId": "0c7ff3f6-a713-46e2-8c44-d26a9452e876",
        "colab": {
          "base_uri": "https://localhost:8080/"
        }
      },
      "id": "YF1LYaljaK9w",
      "execution_count": 12,
      "outputs": [
        {
          "output_type": "stream",
          "name": "stdout",
          "text": [
            "cetak pertama kali\n",
            "1\n",
            "dicetak kedua kali\n",
            "2\n",
            "dicetak ketiga kali\n",
            "3\n"
          ]
        }
      ]
    },
    {
      "cell_type": "code",
      "source": [
        "def putar_string(string_saya):\n",
        "  length = len(string_saya)\n",
        "  for i in range(length -1, 0, -1):\n",
        "    yield string_saya[i]"
      ],
      "metadata": {
        "id": "QcQ8KI9ls_s_"
      },
      "id": "QcQ8KI9ls_s_",
      "execution_count": 21,
      "outputs": []
    },
    {
      "cell_type": "code",
      "source": [
        "Putar_string = putar_string(\"12345678\")"
      ],
      "metadata": {
        "id": "pCknpuZgs_SF"
      },
      "id": "pCknpuZgs_SF",
      "execution_count": 16,
      "outputs": []
    },
    {
      "cell_type": "code",
      "source": [
        "for char in putar_string(\"12345678\"):\n",
        "  print(char)"
      ],
      "metadata": {
        "id": "XFwQInHuwut8",
        "outputId": "b93788fa-83dc-47c4-8dce-4217a3babb34",
        "colab": {
          "base_uri": "https://localhost:8080/"
        }
      },
      "id": "XFwQInHuwut8",
      "execution_count": 22,
      "outputs": [
        {
          "output_type": "stream",
          "name": "stdout",
          "text": [
            "8\n",
            "7\n",
            "6\n",
            "5\n",
            "4\n",
            "3\n",
            "2\n"
          ]
        }
      ]
    },
    {
      "cell_type": "code",
      "source": [
        "string_saya = \"12345678\"\n",
        "length = len(string_saya)\n",
        "for i in range (length - 1, -1, -1): # i<10\n",
        "  print(i)\n",
        "  #print(string_saya[i])"
      ],
      "metadata": {
        "id": "UNCHnT-jy4gJ",
        "outputId": "10fc7814-4507-42e2-80bf-1c8185f53a40",
        "colab": {
          "base_uri": "https://localhost:8080/"
        }
      },
      "id": "UNCHnT-jy4gJ",
      "execution_count": 30,
      "outputs": [
        {
          "output_type": "stream",
          "name": "stdout",
          "text": [
            "7\n",
            "6\n",
            "5\n",
            "4\n",
            "3\n",
            "2\n",
            "1\n",
            "0\n"
          ]
        }
      ]
    },
    {
      "cell_type": "code",
      "source": [
        ""
      ],
      "metadata": {
        "id": "xH_o50ydwuLH"
      },
      "id": "xH_o50ydwuLH",
      "execution_count": null,
      "outputs": []
    },
    {
      "cell_type": "code",
      "source": [
        "def rev_str(my_str):\n",
        "  length = len(my_str)\n",
        "  for i in range(length - 1, -1, -1):\n",
        "    yield my_str[i]"
      ],
      "metadata": {
        "id": "4EIM4aVNaUh2"
      },
      "id": "4EIM4aVNaUh2",
      "execution_count": 13,
      "outputs": []
    },
    {
      "cell_type": "code",
      "source": [
        "for char in rev_str(\"hello\"):\n",
        "  print(char)"
      ],
      "metadata": {
        "id": "ySHtzLPPavMU",
        "outputId": "3f932955-d905-4417-ba77-33bb7741888b",
        "colab": {
          "base_uri": "https://localhost:8080/"
        }
      },
      "id": "ySHtzLPPavMU",
      "execution_count": 14,
      "outputs": [
        {
          "output_type": "stream",
          "name": "stdout",
          "text": [
            "o\n",
            "l\n",
            "l\n",
            "e\n",
            "h\n"
          ]
        }
      ]
    },
    {
      "cell_type": "markdown",
      "source": [
        "## Map function"
      ],
      "metadata": {
        "id": "IaohtTtsazxu"
      },
      "id": "IaohtTtsazxu"
    },
    {
      "cell_type": "code",
      "source": [
        "def myfunc(a, b):\n",
        "  return a + b\n",
        "\n",
        "x = map(myfunc, ('apple', 'banana', 'cherry'), ('orange', 'lemon', 'pineapple'))\n",
        "print (x)\n",
        "print(set(x))"
      ],
      "metadata": {
        "id": "pxgVsKpAdeob",
        "outputId": "26a709d3-a092-400d-ec15-cc56d4b4ec28",
        "colab": {
          "base_uri": "https://localhost:8080/"
        }
      },
      "id": "pxgVsKpAdeob",
      "execution_count": 2,
      "outputs": [
        {
          "output_type": "stream",
          "name": "stdout",
          "text": [
            "<map object at 0x7f1db24dac50>\n",
            "{'appleorange', 'cherrypineapple', 'bananalemon'}\n"
          ]
        }
      ]
    },
    {
      "cell_type": "markdown",
      "source": [
        "## Error Handling"
      ],
      "metadata": {
        "id": "xRoj6wvadi54"
      },
      "id": "xRoj6wvadi54"
    },
    {
      "cell_type": "code",
      "source": [
        "var1 = 5\n",
        "var2 = 0\n",
        "\n",
        "try:\n",
        "  hasil15 = var1/var2 # raise ZeroDivisionError\n",
        "except:\n",
        "  print(\"gagal dieksekusi\")\n",
        "else:\n",
        "  print (hasil15)"
      ],
      "metadata": {
        "id": "jByf99Vw8GL6",
        "outputId": "1c7392e5-fb19-4296-a8dc-8d9d8152a1cf",
        "colab": {
          "base_uri": "https://localhost:8080/"
        }
      },
      "id": "jByf99Vw8GL6",
      "execution_count": 45,
      "outputs": [
        {
          "output_type": "stream",
          "name": "stdout",
          "text": [
            "gagal dieksekusi\n"
          ]
        }
      ]
    },
    {
      "cell_type": "code",
      "source": [
        "orang = {'nama': 'adi', 'umur':10}\n",
        "orang[no_hp] # raise NameError"
      ],
      "metadata": {
        "id": "pI7n0rAo8Nw8",
        "outputId": "a9b6abfc-21d3-440a-e072-bb94c8c7daf8",
        "colab": {
          "base_uri": "https://localhost:8080/",
          "height": 182
        }
      },
      "id": "pI7n0rAo8Nw8",
      "execution_count": 32,
      "outputs": [
        {
          "output_type": "error",
          "ename": "NameError",
          "evalue": "ignored",
          "traceback": [
            "\u001b[0;31m---------------------------------------------------------------------------\u001b[0m",
            "\u001b[0;31mNameError\u001b[0m                                 Traceback (most recent call last)",
            "\u001b[0;32m<ipython-input-32-d17fd05acd90>\u001b[0m in \u001b[0;36m<module>\u001b[0;34m()\u001b[0m\n\u001b[1;32m      1\u001b[0m \u001b[0morang\u001b[0m \u001b[0;34m=\u001b[0m \u001b[0;34m{\u001b[0m\u001b[0;34m'nama'\u001b[0m\u001b[0;34m:\u001b[0m \u001b[0;34m'adi'\u001b[0m\u001b[0;34m,\u001b[0m \u001b[0;34m'umur'\u001b[0m\u001b[0;34m:\u001b[0m\u001b[0;36m10\u001b[0m\u001b[0;34m}\u001b[0m\u001b[0;34m\u001b[0m\u001b[0;34m\u001b[0m\u001b[0m\n\u001b[0;32m----> 2\u001b[0;31m \u001b[0morang\u001b[0m\u001b[0;34m[\u001b[0m\u001b[0mno_hp\u001b[0m\u001b[0;34m]\u001b[0m\u001b[0;34m\u001b[0m\u001b[0;34m\u001b[0m\u001b[0m\n\u001b[0m",
            "\u001b[0;31mNameError\u001b[0m: name 'no_hp' is not defined"
          ]
        }
      ]
    },
    {
      "cell_type": "code",
      "source": [
        ""
      ],
      "metadata": {
        "id": "xOLYRf9t8hCa"
      },
      "id": "xOLYRf9t8hCa",
      "execution_count": null,
      "outputs": []
    }
  ],
  "metadata": {
    "kernelspec": {
      "display_name": "Python 3 (ipykernel)",
      "language": "python",
      "name": "python3"
    },
    "language_info": {
      "codemirror_mode": {
        "name": "ipython",
        "version": 3
      },
      "file_extension": ".py",
      "mimetype": "text/x-python",
      "name": "python",
      "nbconvert_exporter": "python",
      "pygments_lexer": "ipython3",
      "version": "3.8.10"
    },
    "colab": {
      "name": "contoh Notebook.ipynb",
      "provenance": []
    }
  },
  "nbformat": 4,
  "nbformat_minor": 5
}