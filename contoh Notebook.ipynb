{
  "cells": [
    {
      "cell_type": "markdown",
      "id": "769d6be9",
      "metadata": {
        "id": "769d6be9"
      },
      "source": [
        "# Contoh Heading1\n",
        "## Heading 2\n",
        "### Heading 3"
      ]
    },
    {
      "cell_type": "code",
      "execution_count": null,
      "id": "052f6847",
      "metadata": {
        "id": "052f6847"
      },
      "outputs": [],
      "source": [
        "# Ini adalah penjelasan"
      ]
    },
    {
      "cell_type": "code",
      "execution_count": null,
      "id": "fe873cf4",
      "metadata": {
        "id": "fe873cf4",
        "outputId": "663985f1-e9d9-4db7-8ddd-06bbd58a92b2"
      },
      "outputs": [
        {
          "name": "stdout",
          "output_type": "stream",
          "text": [
            "Hello World\n"
          ]
        }
      ],
      "source": [
        "print('Hello World')"
      ]
    },
    {
      "cell_type": "code",
      "execution_count": null,
      "id": "d705f7e6",
      "metadata": {
        "id": "d705f7e6"
      },
      "outputs": [],
      "source": [
        "# operasi mencari luas persegi panjang\n",
        "panjang = 10\n",
        "lebar = 5\n",
        "luas = panjang * lebar"
      ]
    },
    {
      "cell_type": "code",
      "execution_count": null,
      "id": "c06e246e",
      "metadata": {
        "id": "c06e246e",
        "outputId": "47e70844-66cc-48fc-98b9-b63eb2e4047f"
      },
      "outputs": [
        {
          "name": "stdout",
          "output_type": "stream",
          "text": [
            "50\n"
          ]
        }
      ],
      "source": [
        "print (luas)"
      ]
    },
    {
      "cell_type": "code",
      "execution_count": null,
      "id": "60d11313",
      "metadata": {
        "id": "60d11313",
        "outputId": "9882925d-b457-41eb-e0aa-b7444db17639"
      },
      "outputs": [
        {
          "name": "stdout",
          "output_type": "stream",
          "text": [
            "50\n"
          ]
        }
      ],
      "source": [
        "a = 10 # panjang persegi panjang\n",
        "b = 5 # lebar persegi panjang\n",
        "c = a * b # luas persegi panjang\n",
        "print(c)"
      ]
    },
    {
      "cell_type": "markdown",
      "id": "e8f09296",
      "metadata": {
        "id": "e8f09296"
      },
      "source": [
        "Clean code \n",
        "\n",
        "Self documented."
      ]
    },
    {
      "cell_type": "code",
      "execution_count": null,
      "id": "cc752923",
      "metadata": {
        "id": "cc752923",
        "outputId": "5e76b377-aa24-4e93-9109-90afc40d0933"
      },
      "outputs": [
        {
          "data": {
            "text/plain": [
              "str"
            ]
          },
          "execution_count": 12,
          "metadata": {},
          "output_type": "execute_result"
        }
      ],
      "source": [
        "dataFloat = \"10\"\n",
        "type(dataFloat)"
      ]
    },
    {
      "cell_type": "code",
      "execution_count": null,
      "id": "8055fb8a",
      "metadata": {
        "id": "8055fb8a"
      },
      "outputs": [],
      "source": [
        "listcontoh = [12, 34, 'element3', 56.3]"
      ]
    },
    {
      "cell_type": "code",
      "execution_count": null,
      "id": "64affaed",
      "metadata": {
        "id": "64affaed",
        "outputId": "7e7be5f8-2b19-4803-cd0b-727536dc0552"
      },
      "outputs": [
        {
          "name": "stdout",
          "output_type": "stream",
          "text": [
            "[12, 34, 'element3', 56.3]\n"
          ]
        }
      ],
      "source": [
        "print(listcontoh)"
      ]
    },
    {
      "cell_type": "code",
      "execution_count": null,
      "id": "88416569",
      "metadata": {
        "id": "88416569",
        "outputId": "2657586b-1c3c-4f01-cee5-3a02df8fc342"
      },
      "outputs": [
        {
          "data": {
            "text/plain": [
              "34"
            ]
          },
          "execution_count": 15,
          "metadata": {},
          "output_type": "execute_result"
        }
      ],
      "source": [
        "listcontoh[1]"
      ]
    },
    {
      "cell_type": "code",
      "execution_count": null,
      "id": "d9b1ed5c",
      "metadata": {
        "id": "d9b1ed5c",
        "outputId": "0886aef6-6ce3-402c-fced-c4922d312868"
      },
      "outputs": [
        {
          "name": "stdout",
          "output_type": "stream",
          "text": [
            "[34, 56.3]\n"
          ]
        }
      ],
      "source": [
        "print(listcontoh[1:4:2])"
      ]
    },
    {
      "cell_type": "code",
      "execution_count": null,
      "id": "76021022",
      "metadata": {
        "id": "76021022"
      },
      "outputs": [],
      "source": [
        "listcontoh.append(23)"
      ]
    },
    {
      "cell_type": "code",
      "execution_count": null,
      "id": "97984e2c",
      "metadata": {
        "id": "97984e2c",
        "outputId": "9e73b40b-89ef-4a5f-d96d-4612b45ab6e0"
      },
      "outputs": [
        {
          "name": "stdout",
          "output_type": "stream",
          "text": [
            "[12, 34, 'element3', 56.3, 23]\n"
          ]
        }
      ],
      "source": [
        "print(listcontoh)"
      ]
    },
    {
      "cell_type": "code",
      "execution_count": null,
      "id": "706ab914",
      "metadata": {
        "id": "706ab914"
      },
      "outputs": [],
      "source": [
        "listcontoh.insert(4, 'element4')"
      ]
    },
    {
      "cell_type": "code",
      "execution_count": null,
      "id": "5bd52ce6",
      "metadata": {
        "id": "5bd52ce6",
        "outputId": "f6334645-ca6b-48e9-90f7-106bce47b598"
      },
      "outputs": [
        {
          "name": "stdout",
          "output_type": "stream",
          "text": [
            "[12, 34, 'element3', 56.3, 'element4', 23]\n"
          ]
        }
      ],
      "source": [
        "print(listcontoh)"
      ]
    },
    {
      "cell_type": "code",
      "execution_count": null,
      "id": "e6f15c0a",
      "metadata": {
        "id": "e6f15c0a",
        "outputId": "454b9f4f-b8cb-4391-825f-6611fab21eaf"
      },
      "outputs": [
        {
          "data": {
            "text/plain": [
              "12"
            ]
          },
          "execution_count": 27,
          "metadata": {},
          "output_type": "execute_result"
        }
      ],
      "source": [
        "listcontoh.pop(0)"
      ]
    },
    {
      "cell_type": "code",
      "execution_count": null,
      "id": "8094fe8b",
      "metadata": {
        "id": "8094fe8b",
        "outputId": "c3e594dd-b47b-4287-b5fe-a1131b88252d"
      },
      "outputs": [
        {
          "name": "stdout",
          "output_type": "stream",
          "text": [
            "['element3', 56.3, 'element4', 23]\n"
          ]
        }
      ],
      "source": [
        "print(listcontoh)"
      ]
    },
    {
      "cell_type": "code",
      "execution_count": null,
      "id": "3b264d37",
      "metadata": {
        "id": "3b264d37"
      },
      "outputs": [],
      "source": [
        "listtambah = [2, 9]"
      ]
    },
    {
      "cell_type": "code",
      "execution_count": null,
      "id": "4fe79c92",
      "metadata": {
        "id": "4fe79c92"
      },
      "outputs": [],
      "source": [
        "listcontoh.extend(listtambah)"
      ]
    },
    {
      "cell_type": "code",
      "execution_count": null,
      "id": "259d06af",
      "metadata": {
        "id": "259d06af",
        "outputId": "822e7dbd-4f95-48a3-fd24-4e6be9992047"
      },
      "outputs": [
        {
          "name": "stdout",
          "output_type": "stream",
          "text": [
            "['element3', 56.3, 'element4', 23, 2, 9]\n"
          ]
        }
      ],
      "source": [
        "print(listcontoh)"
      ]
    },
    {
      "cell_type": "code",
      "execution_count": null,
      "id": "2833197e",
      "metadata": {
        "id": "2833197e"
      },
      "outputs": [],
      "source": [
        "stringsaya = \"Hari ini saya belajar tipe data di python\""
      ]
    },
    {
      "cell_type": "code",
      "execution_count": null,
      "id": "11794124",
      "metadata": {
        "id": "11794124",
        "outputId": "011e922d-aeb8-44e6-f0ff-9f8bda580d6f"
      },
      "outputs": [
        {
          "data": {
            "text/plain": [
              "str"
            ]
          },
          "execution_count": 33,
          "metadata": {},
          "output_type": "execute_result"
        }
      ],
      "source": [
        "type(stringsaya)"
      ]
    },
    {
      "cell_type": "code",
      "execution_count": null,
      "id": "2dc729eb",
      "metadata": {
        "id": "2dc729eb",
        "outputId": "d824b5b3-2270-45e9-cf08-c3f0bdc63038"
      },
      "outputs": [
        {
          "data": {
            "text/plain": [
              "'a'"
            ]
          },
          "execution_count": 34,
          "metadata": {},
          "output_type": "execute_result"
        }
      ],
      "source": [
        "stringsaya[1]"
      ]
    },
    {
      "cell_type": "code",
      "execution_count": null,
      "id": "16ef462b",
      "metadata": {
        "id": "16ef462b"
      },
      "outputs": [],
      "source": [
        "tinydict = {'nama': 'budi', 'nomorpegawai': 45, 'departemen':'pertahanan'}"
      ]
    },
    {
      "cell_type": "code",
      "execution_count": null,
      "id": "c2236145",
      "metadata": {
        "id": "c2236145",
        "outputId": "642f4a76-aa69-4b10-f938-590899bef954"
      },
      "outputs": [
        {
          "name": "stdout",
          "output_type": "stream",
          "text": [
            "45\n"
          ]
        }
      ],
      "source": [
        "print(tinydict['nomorpegawai'])"
      ]
    },
    {
      "cell_type": "code",
      "execution_count": null,
      "id": "0a093b6f",
      "metadata": {
        "id": "0a093b6f",
        "outputId": "ba4b2b82-ea3b-43f2-97dc-4631bd4a2fd6"
      },
      "outputs": [
        {
          "name": "stdout",
          "output_type": "stream",
          "text": [
            "2.5\n",
            "<class 'float'>\n",
            "2\n",
            "<class 'int'>\n"
          ]
        }
      ],
      "source": [
        "floatsaya=2.5\n",
        "intsaya = int(floatsaya)\n",
        "print(floatsaya)\n",
        "print(type(floatsaya))\n",
        "print(intsaya)\n",
        "print(type(intsaya))"
      ]
    },
    {
      "cell_type": "code",
      "execution_count": null,
      "id": "6085a1ee",
      "metadata": {
        "id": "6085a1ee",
        "outputId": "936919b5-5826-4a0d-a675-bf6bc9da9f49"
      },
      "outputs": [
        {
          "name": "stdout",
          "output_type": "stream",
          "text": [
            "False\n"
          ]
        }
      ],
      "source": [
        "intsaya = 0\n",
        "boolsaya = bool(intsaya)\n",
        "print(boolsaya)"
      ]
    },
    {
      "cell_type": "markdown",
      "source": [
        "## User Defined function"
      ],
      "metadata": {
        "id": "hatOYXBCk3OF"
      },
      "id": "hatOYXBCk3OF"
    },
    {
      "cell_type": "code",
      "execution_count": 1,
      "id": "bada638c",
      "metadata": {
        "id": "bada638c"
      },
      "outputs": [],
      "source": [
        "def luasSegitiga(alas, tinggi):\n",
        "  luas = alas * tinggi * 0.5\n",
        "  return luas"
      ]
    },
    {
      "cell_type": "code",
      "source": [
        "luas = luasSegitiga(10, 5)\n",
        "print(luas)"
      ],
      "metadata": {
        "colab": {
          "base_uri": "https://localhost:8080/"
        },
        "id": "bC1CKwz5gt5A",
        "outputId": "f79c35e8-c82e-499c-e29b-d57d534d20cf"
      },
      "id": "bC1CKwz5gt5A",
      "execution_count": 2,
      "outputs": [
        {
          "output_type": "stream",
          "name": "stdout",
          "text": [
            "25.0\n"
          ]
        }
      ]
    },
    {
      "cell_type": "markdown",
      "source": [
        "## Default value in function"
      ],
      "metadata": {
        "id": "CKOJevKGkyxC"
      },
      "id": "CKOJevKGkyxC"
    },
    {
      "cell_type": "code",
      "source": [
        "def luasPersegiPanjang(sisi, panjang=0):\n",
        "  if panjang == 0:\n",
        "    luas = sisi*sisi\n",
        "  else:\n",
        "    luas = sisi*panjang\n",
        "  return luas\n"
      ],
      "metadata": {
        "id": "e_jhnNJng6Md"
      },
      "id": "e_jhnNJng6Md",
      "execution_count": 1,
      "outputs": []
    },
    {
      "cell_type": "code",
      "source": [
        "luas = luasPersegiPanjang(7)\n",
        "print(luas)"
      ],
      "metadata": {
        "colab": {
          "base_uri": "https://localhost:8080/"
        },
        "id": "3dQddlO1kevv",
        "outputId": "8d5ee1b2-8377-4b0e-a176-6a1fb0369e7b"
      },
      "id": "3dQddlO1kevv",
      "execution_count": 2,
      "outputs": [
        {
          "output_type": "stream",
          "name": "stdout",
          "text": [
            "49\n"
          ]
        }
      ]
    },
    {
      "cell_type": "code",
      "source": [
        "luas = luasPersegiPanjang(7, 3)\n",
        "print(luas)"
      ],
      "metadata": {
        "colab": {
          "base_uri": "https://localhost:8080/"
        },
        "id": "wxbl0sr2kmPm",
        "outputId": "2cc175eb-720e-43db-8e9f-85c674c84c8e"
      },
      "id": "wxbl0sr2kmPm",
      "execution_count": 3,
      "outputs": [
        {
          "output_type": "stream",
          "name": "stdout",
          "text": [
            "21\n"
          ]
        }
      ]
    },
    {
      "cell_type": "code",
      "source": [
        "print(pow(3,2)) # power = pangkat. \"**\""
      ],
      "metadata": {
        "colab": {
          "base_uri": "https://localhost:8080/"
        },
        "id": "CyTD2aW1kt4j",
        "outputId": "7a2e0424-3827-46ad-a709-1d851216c27c"
      },
      "id": "CyTD2aW1kt4j",
      "execution_count": 8,
      "outputs": [
        {
          "output_type": "stream",
          "name": "stdout",
          "text": [
            "9\n"
          ]
        }
      ]
    },
    {
      "cell_type": "code",
      "source": [
        "print(round(5.78501, 2))"
      ],
      "metadata": {
        "id": "bdcER9xJm--t",
        "outputId": "efa9b4da-ffa6-4969-f97d-5ba8f892cb56",
        "colab": {
          "base_uri": "https://localhost:8080/"
        }
      },
      "id": "bdcER9xJm--t",
      "execution_count": 11,
      "outputs": [
        {
          "output_type": "stream",
          "name": "stdout",
          "text": [
            "5.79\n"
          ]
        }
      ]
    },
    {
      "cell_type": "code",
      "source": [
        "varkompleks = 4+3j\n",
        "print(abs(varkompleks))"
      ],
      "metadata": {
        "id": "SMJyYxRUnd8j",
        "outputId": "47cf384d-74d2-4963-a8d7-a1636f73ce5c",
        "colab": {
          "base_uri": "https://localhost:8080/"
        }
      },
      "id": "SMJyYxRUnd8j",
      "execution_count": 15,
      "outputs": [
        {
          "output_type": "stream",
          "name": "stdout",
          "text": [
            "5.0\n"
          ]
        }
      ]
    },
    {
      "cell_type": "code",
      "source": [
        "stringsingleline = \"Saya belajar python\"\n",
        "print(stringsingleline)"
      ],
      "metadata": {
        "id": "L7E75zXOnvmB",
        "outputId": "37e5b863-9169-4025-8c39-f77d454b1f76",
        "colab": {
          "base_uri": "https://localhost:8080/"
        }
      },
      "id": "L7E75zXOnvmB",
      "execution_count": 16,
      "outputs": [
        {
          "output_type": "stream",
          "name": "stdout",
          "text": [
            "Saya belajar python\n"
          ]
        }
      ]
    },
    {
      "cell_type": "code",
      "source": [
        "stringmultiline = \\\n",
        "\"\"\"Saya belajar python.\n",
        "  Belajar python bisa lewat w3schools\"\"\""
      ],
      "metadata": {
        "id": "acA4_keXrMTr"
      },
      "id": "acA4_keXrMTr",
      "execution_count": 19,
      "outputs": []
    },
    {
      "cell_type": "code",
      "source": [
        "print(stringmultiline)"
      ],
      "metadata": {
        "id": "fGFb_ICUrelH",
        "outputId": "db635bf4-3ea3-43cc-f0f8-a8dbcec56a3f",
        "colab": {
          "base_uri": "https://localhost:8080/"
        }
      },
      "id": "fGFb_ICUrelH",
      "execution_count": 20,
      "outputs": [
        {
          "output_type": "stream",
          "name": "stdout",
          "text": [
            "Saya belajar python.\n",
            "  Belajar python bisa lewat w3schools\n"
          ]
        }
      ]
    },
    {
      "cell_type": "code",
      "source": [
        "str1 = \"Saya\"\n",
        "str2 = \"belajar\"\n",
        "str3 = \"python\"\n",
        "print(str1+\" \"+str2+\" \"+str3) # string concatenation"
      ],
      "metadata": {
        "id": "tAy1vFlergi9",
        "outputId": "b9d91182-6feb-45da-dab3-d09c53353ae9",
        "colab": {
          "base_uri": "https://localhost:8080/"
        }
      },
      "id": "tAy1vFlergi9",
      "execution_count": 25,
      "outputs": [
        {
          "output_type": "stream",
          "name": "stdout",
          "text": [
            "Saya belajar python\n"
          ]
        }
      ]
    },
    {
      "cell_type": "code",
      "source": [
        "print(str2 * 2)"
      ],
      "metadata": {
        "id": "TeXuckAosagV",
        "outputId": "cec44117-4520-4be9-db86-2402b21abb9f",
        "colab": {
          "base_uri": "https://localhost:8080/"
        }
      },
      "id": "TeXuckAosagV",
      "execution_count": 26,
      "outputs": [
        {
          "output_type": "stream",
          "name": "stdout",
          "text": [
            "belajarbelajar\n"
          ]
        }
      ]
    },
    {
      "cell_type": "code",
      "source": [
        "checkstr = \"e\"\n",
        "print(checkstr in str1)\n",
        "print(checkstr in str2)\n",
        "print(checkstr in str3)"
      ],
      "metadata": {
        "id": "3hLhD4qms0vf",
        "outputId": "c474bd75-7f4c-43df-b3ee-aec034c42972",
        "colab": {
          "base_uri": "https://localhost:8080/"
        }
      },
      "id": "3hLhD4qms0vf",
      "execution_count": 30,
      "outputs": [
        {
          "output_type": "stream",
          "name": "stdout",
          "text": [
            "False\n",
            "True\n",
            "False\n"
          ]
        }
      ]
    },
    {
      "cell_type": "code",
      "source": [
        "![picture](https://drive.google.com/file/d/1HD1BFM-0YAFHE-sx0vgy3RDhyDSLDwkQ/view?usp=sharing)"
      ],
      "metadata": {
        "id": "FYi8NQ2RtHPL",
        "outputId": "9e39d5dc-2536-4bb5-c505-8dfa7b1e5587",
        "colab": {
          "base_uri": "https://localhost:8080/"
        }
      },
      "id": "FYi8NQ2RtHPL",
      "execution_count": 33,
      "outputs": [
        {
          "output_type": "stream",
          "name": "stdout",
          "text": [
            "/bin/bash: -c: line 0: syntax error near unexpected token `https://drive.google.com/file/d/1HD1BFM-0YAFHE-sx0vgy3RDhyDSLDwkQ/view?usp=sharing'\n",
            "/bin/bash: -c: line 0: `[picture](https://drive.google.com/file/d/1HD1BFM-0YAFHE-sx0vgy3RDhyDSLDwkQ/view?usp=sharing)'\n"
          ]
        }
      ]
    },
    {
      "cell_type": "code",
      "source": [
        "print(str1.upper())"
      ],
      "metadata": {
        "id": "7LefKNusugde",
        "outputId": "260726e7-49c3-4f17-cf46-337354e4c34e",
        "colab": {
          "base_uri": "https://localhost:8080/"
        }
      },
      "id": "7LefKNusugde",
      "execution_count": 34,
      "outputs": [
        {
          "output_type": "stream",
          "name": "stdout",
          "text": [
            "SAYA\n"
          ]
        }
      ]
    },
    {
      "cell_type": "code",
      "source": [
        "print(str1.lower())"
      ],
      "metadata": {
        "id": "qKj4xUJEvNBR",
        "outputId": "078c44c3-d866-45d3-ac9d-8f44799ecd04",
        "colab": {
          "base_uri": "https://localhost:8080/"
        }
      },
      "id": "qKj4xUJEvNBR",
      "execution_count": 35,
      "outputs": [
        {
          "output_type": "stream",
          "name": "stdout",
          "text": [
            "saya\n"
          ]
        }
      ]
    },
    {
      "cell_type": "code",
      "source": [
        "print(str1)\n",
        "print(str1.replace('a', str1))"
      ],
      "metadata": {
        "id": "9yyZzoy5vSHe",
        "outputId": "1db304c3-6317-4bd7-a344-c6dbacdcdb96",
        "colab": {
          "base_uri": "https://localhost:8080/"
        }
      },
      "id": "9yyZzoy5vSHe",
      "execution_count": 40,
      "outputs": [
        {
          "output_type": "stream",
          "name": "stdout",
          "text": [
            "Saya\n",
            "SSayaySaya\n"
          ]
        }
      ]
    },
    {
      "cell_type": "code",
      "source": [
        "harga = 5000\n",
        "jumlah = 1\n",
        "pesanHarga = \"harga {} tomat adalah {} rupiah\"\n",
        "print(pesanHarga.format(jumlah, harga))"
      ],
      "metadata": {
        "id": "rONmw6YpvVn1",
        "outputId": "2fc3a68c-2fa0-4a80-fe91-0d99b498e894",
        "colab": {
          "base_uri": "https://localhost:8080/"
        }
      },
      "id": "rONmw6YpvVn1",
      "execution_count": 42,
      "outputs": [
        {
          "output_type": "stream",
          "name": "stdout",
          "text": [
            "harga 1 tomat adalah 5000 rupiah\n"
          ]
        }
      ]
    },
    {
      "cell_type": "code",
      "source": [
        "nilaidesimal = 5/3\n",
        "print(nilaidesimal)"
      ],
      "metadata": {
        "id": "z4c7lqYqwiGS",
        "outputId": "eff95dde-8925-414f-87c5-a10c1cb394cd",
        "colab": {
          "base_uri": "https://localhost:8080/"
        }
      },
      "id": "z4c7lqYqwiGS",
      "execution_count": 44,
      "outputs": [
        {
          "output_type": "stream",
          "name": "stdout",
          "text": [
            "1.6666666666666667\n"
          ]
        }
      ]
    },
    {
      "cell_type": "code",
      "source": [
        "pesanDesimal = \"nilai desimal: {:.2f}\"\n",
        "print(pesanDesimal.format(nilaidesimal))"
      ],
      "metadata": {
        "id": "7wrR6x1RxBUM",
        "outputId": "b0874809-f524-4730-e047-181fc6f4d5af",
        "colab": {
          "base_uri": "https://localhost:8080/"
        }
      },
      "id": "7wrR6x1RxBUM",
      "execution_count": 48,
      "outputs": [
        {
          "output_type": "stream",
          "name": "stdout",
          "text": [
            "nilai desimal: 1.67\n"
          ]
        }
      ]
    },
    {
      "cell_type": "code",
      "source": [
        "harga = 5000\n",
        "jumlah = 1\n",
        "pajak = 20\n",
        "pesanHarga = \"harga {0} tomat adalah {2} rupiah dengan pajak {1} persen\"\n",
        "print(pesanHarga.format(jumlah,pajak, harga))"
      ],
      "metadata": {
        "id": "Zy5L7UYwyIpA",
        "outputId": "6fbe1d5a-a0b5-4677-a66b-d00dee5575b6",
        "colab": {
          "base_uri": "https://localhost:8080/"
        }
      },
      "id": "Zy5L7UYwyIpA",
      "execution_count": 52,
      "outputs": [
        {
          "output_type": "stream",
          "name": "stdout",
          "text": [
            "harga 1 tomat adalah 5000 rupiah dengan pajak 20 persen\n"
          ]
        }
      ]
    },
    {
      "cell_type": "code",
      "source": [
        "nama = \"adi\"\n",
        "usia = 10\n",
        "pesan = \"nama {0}. {0} berusia {1} tahun\"\n",
        "print(pesan.format(nama, usia))"
      ],
      "metadata": {
        "id": "oC-cx_HOyxcY",
        "outputId": "c6865173-5a2a-4e3f-aaa5-33a9d72ae110",
        "colab": {
          "base_uri": "https://localhost:8080/"
        }
      },
      "id": "oC-cx_HOyxcY",
      "execution_count": 55,
      "outputs": [
        {
          "output_type": "stream",
          "name": "stdout",
          "text": [
            "nama adi. adi berusia 10 tahun\n"
          ]
        }
      ]
    },
    {
      "cell_type": "code",
      "source": [
        "pesan = \"Saya punya {barang} merek {merek}\"\n",
        "print(pesan.format(merek = \"boeing\", barang = \"HP\"))"
      ],
      "metadata": {
        "id": "D5BHI3IUze_M",
        "outputId": "02df8290-979e-43fe-a4ae-63c8a2e0be84",
        "colab": {
          "base_uri": "https://localhost:8080/"
        }
      },
      "id": "D5BHI3IUze_M",
      "execution_count": 57,
      "outputs": [
        {
          "output_type": "stream",
          "name": "stdout",
          "text": [
            "Saya punya HP merek boeing\n"
          ]
        }
      ]
    },
    {
      "cell_type": "code",
      "source": [
        "HP = \"HP\"\n",
        "merek = \"boeing\"\n",
        "jumlah = 2\n",
        "kecepatan =  100.556745675 #float\n",
        "print(\"Saya punya %d buah %s merek %s dengan kecepatan %d\" \\\n",
        "      %(jumlah, HP, merek, kecepatan)) #placeholder"
      ],
      "metadata": {
        "id": "9H6EI8cT0BkH",
        "outputId": "10d34e2a-bf2b-4234-b725-a3fd1dc0ee26",
        "colab": {
          "base_uri": "https://localhost:8080/"
        }
      },
      "id": "9H6EI8cT0BkH",
      "execution_count": 70,
      "outputs": [
        {
          "output_type": "stream",
          "name": "stdout",
          "text": [
            "Saya punya 2 buah HP merek boeing dengan kecepatan 100\n"
          ]
        }
      ]
    },
    {
      "cell_type": "code",
      "source": [
        ""
      ],
      "metadata": {
        "id": "eQEjoHrw3N5d"
      },
      "id": "eQEjoHrw3N5d",
      "execution_count": null,
      "outputs": []
    }
  ],
  "metadata": {
    "kernelspec": {
      "display_name": "Python 3 (ipykernel)",
      "language": "python",
      "name": "python3"
    },
    "language_info": {
      "codemirror_mode": {
        "name": "ipython",
        "version": 3
      },
      "file_extension": ".py",
      "mimetype": "text/x-python",
      "name": "python",
      "nbconvert_exporter": "python",
      "pygments_lexer": "ipython3",
      "version": "3.8.10"
    },
    "colab": {
      "name": "contoh Notebook.ipynb",
      "provenance": []
    },
    "accelerator": "GPU"
  },
  "nbformat": 4,
  "nbformat_minor": 5
}